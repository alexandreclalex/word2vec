{
 "cells": [
  {
   "cell_type": "markdown",
   "metadata": {},
   "source": [
    "# Demonstrate Classification"
   ]
  },
  {
   "cell_type": "code",
   "execution_count": 1,
   "metadata": {
    "scrolled": true
   },
   "outputs": [],
   "source": [
    "import matplotlib.pyplot as plt\n",
    "import pandas as pd\n",
    "import numpy as np\n",
    "from sklearn.model_selection import KFold\n",
    "from CONFIG import PREPROCESSED_DATA_PATH\n",
    "from knn import KNN\n",
    "from gensim.models import Word2Vec\n",
    "import gensim.downloader\n",
    "from classifier import Classifier\n",
    "from word2vec import Word2VecModel\n",
    "\n",
    "import sklearn"
   ]
  },
  {
   "cell_type": "code",
   "execution_count": 2,
   "metadata": {},
   "outputs": [],
   "source": [
    "# Set up some configs\n",
    "SHOULD_RETRAIN_WORD2VEC = True\n",
    "WORD2VEC_PATH = \"custom_word_2_vec\""
   ]
  },
  {
   "cell_type": "code",
   "execution_count": 3,
   "metadata": {},
   "outputs": [],
   "source": [
    "# Load data and shuffle\n",
    "df_data = pd.read_parquet(PREPROCESSED_DATA_PATH)\n",
    "df_data = df_data.sample(frac=1).reset_index(drop=True)"
   ]
  },
  {
   "cell_type": "code",
   "execution_count": null,
   "metadata": {},
   "outputs": [
    {
     "name": "stderr",
     "output_type": "stream",
     "text": [
      "/usr/local/lib/python3.6/dist-packages/ipykernel_launcher.py:9: VisibleDeprecationWarning: Creating an ndarray from ragged nested sequences (which is a list-or-tuple of lists-or-tuples-or ndarrays with different lengths or shapes) is deprecated. If you meant to do this, you must specify 'dtype=object' when creating the ndarray\n",
      "  if __name__ == '__main__':\n"
     ]
    },
    {
     "name": "stdout",
     "output_type": "stream",
     "text": [
      "Epoch 1/1024\n"
     ]
    }
   ],
   "source": [
    "if SHOULD_RETRAIN_WORD2VEC:\n",
    "    # Configure data\n",
    "    dataset_size_limt = len(df_data)#10000\n",
    "    df_data = df_data[:dataset_size_limt]\n",
    "    test_subset = df_data[:int(len(df_data)*0.2)]\n",
    "    train_subset = df_data[int(len(df_data)*0.2):]\n",
    "    \n",
    "    # Fit the word2vec model\n",
    "    training_tokens = np.array([x.split() for x in train_subset[\"title\"]])\n",
    "    w2v_custom = Word2VecModel()\n",
    "    w2v_custom.fit(training_tokens, epochs=1024, batch_size=1024)\n",
    "    \n",
    "    # Save the word 2 vec model\n",
    "    w2v_custom.save(WORD2VEC_PATH)"
   ]
  },
  {
   "cell_type": "markdown",
   "metadata": {},
   "source": [
    "# K-Fold Validation"
   ]
  },
  {
   "cell_type": "code",
   "execution_count": null,
   "metadata": {},
   "outputs": [],
   "source": [
    "c = Classifier(WORD2VEC_PATH)"
   ]
  },
  {
   "cell_type": "code",
   "execution_count": null,
   "metadata": {},
   "outputs": [],
   "source": [
    "df_data = df_data.sample(frac=1).reset_index(drop=True)\n",
    "classes = np.array(df_data[\"categories\"])\n",
    "classes = classes[:10000]\n",
    "titles = np.array(df_data[\"title\"])\n",
    "titles = titles[:10000]"
   ]
  },
  {
   "cell_type": "code",
   "execution_count": null,
   "metadata": {
    "scrolled": false
   },
   "outputs": [],
   "source": [
    "kf = KFold(n_splits=10)\n",
    "i = 0\n",
    "for train_index, test_index in kf.split(titles):\n",
    "    print(\"FOLD \", i)\n",
    "    X_train, X_test = titles[train_index], titles[test_index]\n",
    "    y_train, y_test = classes[train_index], classes[test_index]\n",
    "    c.fit(X_train, y_train)\n",
    "    \n",
    "    predictions = c.predict(X_test)\n",
    "    f_score = sklearn.metrics.f1_score(y_test, predictions, average='macro')\n",
    "    precision = sklearn.metrics.precision_score(y_test, predictions, average='macro')\n",
    "    recall = sklearn.metrics.recall_score(y_test, predictions, average='macro')\n",
    "    acc = sklearn.metrics.accuracy_score(y_test, predictions)\n",
    "    print(\"F Score:\", f_score, \"Precision\", precision, \"Recall\", recall, \"Accuracy\", acc)"
   ]
  }
 ],
 "metadata": {
  "kernelspec": {
   "display_name": "Python 3",
   "language": "python",
   "name": "python3"
  },
  "language_info": {
   "codemirror_mode": {
    "name": "ipython",
    "version": 3
   },
   "file_extension": ".py",
   "mimetype": "text/x-python",
   "name": "python",
   "nbconvert_exporter": "python",
   "pygments_lexer": "ipython3",
   "version": "3.6.9"
  }
 },
 "nbformat": 4,
 "nbformat_minor": 4
}
